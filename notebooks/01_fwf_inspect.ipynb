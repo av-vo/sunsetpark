{
 "cells": [
  {
   "cell_type": "markdown",
   "metadata": {},
   "source": [
    "## FWF Data Inspection\n",
    "-----"
   ]
  },
  {
   "cell_type": "code",
   "execution_count": 1,
   "metadata": {},
   "outputs": [],
   "source": [
    "import numpy as np\n",
    "import pandas as pd\n",
    "import matplotlib.pyplot as ply\n",
    "\n",
    "import pulsewaves_pb2 as pwproto # make sure that pulsewaves_pb2.py is in the same directory as the notebook\n",
    "\n",
    "import als "
   ]
  },
  {
   "cell_type": "markdown",
   "metadata": {},
   "source": [
    "### Parse PWMsg data"
   ]
  },
  {
   "cell_type": "code",
   "execution_count": 2,
   "metadata": {},
   "outputs": [
    {
     "name": "stdout",
     "output_type": "stream",
     "text": [
      "number of pulses parsed: 100000\n"
     ]
    }
   ],
   "source": [
    "pw_list = pwproto.PWListP()\n",
    "f = open('../data/pwmsg/10552_NYU_M2_Pulse_Waves_MTA_Resolved-Scanner1-190511_161348_1-originalpoints-0.pwmsg', 'rb')\n",
    "pw_list.ParseFromString(f.read())\n",
    "f.close()\n",
    "\n",
    "num_pls = len(pw_list.pulse)\n",
    "print('number of pulses parsed: {0}'.format(num_pls))"
   ]
  },
  {
   "cell_type": "markdown",
   "metadata": {},
   "source": [
    "### Number of samplings"
   ]
  },
  {
   "cell_type": "code",
   "execution_count": 4,
   "metadata": {
    "scrolled": true
   },
   "outputs": [
    {
     "name": "stdout",
     "output_type": "stream",
     "text": [
      "numbers of samplings per pulse: [2 3]\n"
     ]
    }
   ],
   "source": [
    "num_samplings_per_pulse = pd.Series([len(pls.channels) for pls in pw_list.pulse])\n",
    "print('numbers of samplings per pulse: {0}'.format(num_samplings_per_pulse.unique()))"
   ]
  },
  {
   "cell_type": "code",
   "execution_count": 5,
   "metadata": {},
   "outputs": [
    {
     "name": "stdout",
     "output_type": "stream",
     "text": [
      "number of pulses with 2 samplings: 35682\n",
      "number of pulses with 3 samplings: 64318\n"
     ]
    }
   ],
   "source": [
    "tt = 0\n",
    "for n in num_samplings_per_pulse.unique():\n",
    "    idx=num_samplings_per_pulse.index[num_samplings_per_pulse==n]\n",
    "    print('number of pulses with {0} samplings: {1}'.format(n, len(idx)))\n",
    "    tt += len(idx)\n",
    "    \n",
    "assert(tt == num_pls)"
   ]
  },
  {
   "cell_type": "markdown",
   "metadata": {},
   "source": [
    "### Pulse descriptor index"
   ]
  },
  {
   "cell_type": "code",
   "execution_count": 6,
   "metadata": {},
   "outputs": [
    {
     "name": "stdout",
     "output_type": "stream",
     "text": [
      "pulse descriptor indices: [2 3 5 4 6]\n"
     ]
    }
   ],
   "source": [
    "desc_idx = pd.Series([pls.pulseDescriptorIndex for pls in pw_list.pulse])\n",
    "print('pulse descriptor indices: {0}'.format(desc_idx.unique()))"
   ]
  },
  {
   "cell_type": "code",
   "execution_count": 7,
   "metadata": {},
   "outputs": [
    {
     "name": "stdout",
     "output_type": "stream",
     "text": [
      "number of pulses with pulse descriptor #2: 25221\n",
      "number of pulses with pulse descriptor #3: 49888\n",
      "number of pulses with pulse descriptor #5: 6705\n",
      "number of pulses with pulse descriptor #4: 10461\n",
      "number of pulses with pulse descriptor #6: 7725\n"
     ]
    }
   ],
   "source": [
    "tt = 0\n",
    "for n in desc_idx.unique():\n",
    "    idx=desc_idx.index[desc_idx==n]\n",
    "    print('number of pulses with pulse descriptor #{0}: {1}'.format(n, len(idx)))\n",
    "    tt += len(idx)\n",
    "    \n",
    "assert(tt == num_pls)"
   ]
  },
  {
   "cell_type": "markdown",
   "metadata": {},
   "source": [
    "### Close look at a pusle with 2 samplings"
   ]
  },
  {
   "cell_type": "markdown",
   "metadata": {},
   "source": [
    "Print a pulse as JSON"
   ]
  },
  {
   "cell_type": "code",
   "execution_count": 8,
   "metadata": {
    "scrolled": true
   },
   "outputs": [
    {
     "name": "stdout",
     "output_type": "stream",
     "text": [
      "timestamp: 15232594729\n",
      "channels {\n",
      "  channel: 0\n",
      "  sampleUnit: 1.0\n",
      "  waveSegment {\n",
      "    durationFromAnchor: -12.999341011047363\n",
      "    echo: 4\n",
      "    echo: 2\n",
      "    echo: 1\n",
      "    echo: 1\n",
      "    echo: 2\n",
      "    echo: 2\n",
      "    echo: 2\n",
      "    echo: 2\n",
      "    echo: 7\n",
      "    echo: 25\n",
      "    echo: 63\n",
      "    echo: 121\n",
      "    echo: 174\n",
      "    echo: 191\n",
      "    echo: 163\n",
      "    echo: 109\n",
      "    echo: 59\n",
      "    echo: 28\n",
      "    echo: 12\n",
      "    echo: 6\n",
      "    echo: 4\n",
      "    echo: 5\n",
      "    echo: 7\n",
      "    echo: 5\n",
      "  }\n",
      "}\n",
      "channels {\n",
      "  channel: 1\n",
      "  sampleUnit: 1.0\n",
      "  waveSegment {\n",
      "    durationFromAnchor: -231.46734619140625\n",
      "    echo: 2\n",
      "    echo: 3\n",
      "    echo: 2\n",
      "    echo: 2\n",
      "    echo: 2\n",
      "    echo: 2\n",
      "    echo: 2\n",
      "    echo: 3\n",
      "    echo: 3\n",
      "    echo: 3\n",
      "    echo: 3\n",
      "    echo: 3\n",
      "    echo: 4\n",
      "    echo: 8\n",
      "    echo: 11\n",
      "    echo: 12\n",
      "    echo: 10\n",
      "    echo: 6\n",
      "    echo: 3\n",
      "    echo: 4\n",
      "    echo: 2\n",
      "    echo: 3\n",
      "    echo: 2\n",
      "    echo: 3\n",
      "    echo: 3\n",
      "    echo: 3\n",
      "    echo: 3\n",
      "    echo: 3\n",
      "    echo: 3\n",
      "    echo: 2\n",
      "    echo: 2\n",
      "    echo: 2\n",
      "    echo: 1\n",
      "    echo: 2\n",
      "    echo: 2\n",
      "    echo: 2\n",
      "    echo: 1\n",
      "    echo: 1\n",
      "    echo: 0\n",
      "    echo: 1\n",
      "    echo: 1\n",
      "    echo: 3\n",
      "    echo: 3\n",
      "    echo: 3\n",
      "    echo: 3\n",
      "    echo: 3\n",
      "    echo: 3\n",
      "    echo: 4\n",
      "    echo: 3\n",
      "    echo: 3\n",
      "    echo: 3\n",
      "    echo: 3\n",
      "    echo: 3\n",
      "    echo: 3\n",
      "    echo: 2\n",
      "    echo: 2\n",
      "    echo: 1\n",
      "    echo: 2\n",
      "    echo: 2\n",
      "    echo: 3\n",
      "  }\n",
      "}\n",
      "anchorX: 3394302\n",
      "anchorY: -309915\n",
      "anchorZ: 1131054\n",
      "targetX: 3321956\n",
      "targetY: -317092\n",
      "targetZ: 1000017\n",
      "firstReturningSample: 0\n",
      "lastReturningSample: 0\n",
      "pulseDescriptorIndex: 2\n",
      "edgeOfScanLine: false\n",
      "scanDirection: false\n",
      "mirroFacet: 2\n",
      "intensity: 0\n",
      "classification: 0\n",
      "\n"
     ]
    }
   ],
   "source": [
    "n = 2\n",
    "idx=num_samplings_per_pulse.index[num_samplings_per_pulse==n]\n",
    "pls = pw_list.pulse[idx[0]]\n",
    "print(pls)"
   ]
  },
  {
   "cell_type": "markdown",
   "metadata": {},
   "source": [
    "### Close look at a pusle with 3 samplings"
   ]
  },
  {
   "cell_type": "markdown",
   "metadata": {},
   "source": [
    "Print a pulse as JSON"
   ]
  },
  {
   "cell_type": "code",
   "execution_count": 9,
   "metadata": {},
   "outputs": [
    {
     "name": "stdout",
     "output_type": "stream",
     "text": [
      "timestamp: 15232594729\n",
      "channels {\n",
      "  channel: 0\n",
      "  sampleUnit: 1.0\n",
      "  waveSegment {\n",
      "    durationFromAnchor: -12.999341011047363\n",
      "    echo: 4\n",
      "    echo: 2\n",
      "    echo: 1\n",
      "    echo: 1\n",
      "    echo: 2\n",
      "    echo: 2\n",
      "    echo: 2\n",
      "    echo: 2\n",
      "    echo: 7\n",
      "    echo: 25\n",
      "    echo: 63\n",
      "    echo: 121\n",
      "    echo: 174\n",
      "    echo: 191\n",
      "    echo: 163\n",
      "    echo: 109\n",
      "    echo: 59\n",
      "    echo: 28\n",
      "    echo: 12\n",
      "    echo: 6\n",
      "    echo: 4\n",
      "    echo: 5\n",
      "    echo: 7\n",
      "    echo: 5\n",
      "  }\n",
      "}\n",
      "channels {\n",
      "  channel: 1\n",
      "  sampleUnit: 1.0\n",
      "  waveSegment {\n",
      "    durationFromAnchor: -231.46734619140625\n",
      "    echo: 2\n",
      "    echo: 3\n",
      "    echo: 2\n",
      "    echo: 2\n",
      "    echo: 2\n",
      "    echo: 2\n",
      "    echo: 2\n",
      "    echo: 3\n",
      "    echo: 3\n",
      "    echo: 3\n",
      "    echo: 3\n",
      "    echo: 3\n",
      "    echo: 4\n",
      "    echo: 8\n",
      "    echo: 11\n",
      "    echo: 12\n",
      "    echo: 10\n",
      "    echo: 6\n",
      "    echo: 3\n",
      "    echo: 4\n",
      "    echo: 2\n",
      "    echo: 3\n",
      "    echo: 2\n",
      "    echo: 3\n",
      "    echo: 3\n",
      "    echo: 3\n",
      "    echo: 3\n",
      "    echo: 3\n",
      "    echo: 3\n",
      "    echo: 2\n",
      "    echo: 2\n",
      "    echo: 2\n",
      "    echo: 1\n",
      "    echo: 2\n",
      "    echo: 2\n",
      "    echo: 2\n",
      "    echo: 1\n",
      "    echo: 1\n",
      "    echo: 0\n",
      "    echo: 1\n",
      "    echo: 1\n",
      "    echo: 3\n",
      "    echo: 3\n",
      "    echo: 3\n",
      "    echo: 3\n",
      "    echo: 3\n",
      "    echo: 3\n",
      "    echo: 4\n",
      "    echo: 3\n",
      "    echo: 3\n",
      "    echo: 3\n",
      "    echo: 3\n",
      "    echo: 3\n",
      "    echo: 3\n",
      "    echo: 2\n",
      "    echo: 2\n",
      "    echo: 1\n",
      "    echo: 2\n",
      "    echo: 2\n",
      "    echo: 3\n",
      "  }\n",
      "}\n",
      "anchorX: 3394302\n",
      "anchorY: -309915\n",
      "anchorZ: 1131054\n",
      "targetX: 3321956\n",
      "targetY: -317092\n",
      "targetZ: 1000017\n",
      "firstReturningSample: 0\n",
      "lastReturningSample: 0\n",
      "pulseDescriptorIndex: 2\n",
      "edgeOfScanLine: false\n",
      "scanDirection: false\n",
      "mirroFacet: 2\n",
      "intensity: 0\n",
      "classification: 0\n",
      "\n"
     ]
    }
   ],
   "source": [
    "n = 2\n",
    "idx=num_samplings_per_pulse.index[num_samplings_per_pulse==n]\n",
    "pls = pw_list.pulse[idx[0]]\n",
    "print(pls)"
   ]
  },
  {
   "cell_type": "markdown",
   "metadata": {},
   "source": [
    "### Close look at a pusle with descriptor index 2\n",
    "1 x RP, 1 x LP, 0 x HP"
   ]
  },
  {
   "cell_type": "code",
   "execution_count": 10,
   "metadata": {
    "scrolled": true
   },
   "outputs": [
    {
     "data": {
      "image/png": "[encoded data removed]",
      "text/plain": [
       "<Figure size 432x360 with 2 Axes>"
      ]
     },
     "metadata": {
      "needs_background": "light"
     },
     "output_type": "display_data"
    }
   ],
   "source": [
    "n = 2\n",
    "idx=desc_idx.index[desc_idx==n]\n",
    "pls = pw_list.pulse[idx[7]]\n",
    "#print(pls) # uncomment this if you want to read the pulse as JSON\n",
    "fig, axes = als.plot_waves(pls)"
   ]
  },
  {
   "cell_type": "markdown",
   "metadata": {},
   "source": [
    "### Close look at a pusle with descriptor index 3\n",
    "1 x RP, 1 x LP, 1 x HP"
   ]
  },
  {
   "cell_type": "code",
   "execution_count": 11,
   "metadata": {},
   "outputs": [
    {
     "data": {
      "image/png": "[encoded data removed]",
      "text/plain": [
       "<Figure size 648x360 with 3 Axes>"
      ]
     },
     "metadata": {
      "needs_background": "light"
     },
     "output_type": "display_data"
    }
   ],
   "source": [
    "n = 3\n",
    "idx=desc_idx.index[desc_idx==n]\n",
    "pls = pw_list.pulse[idx[4]]\n",
    "#print(pls) # uncomment this if you want to read the pulse as JSON\n",
    "fig, axes = als.plot_waves(pls)"
   ]
  },
  {
   "cell_type": "markdown",
   "metadata": {},
   "source": [
    "### Close look at a pusle with descriptor index 4\n",
    "1 x RP, 2 x LP, 0 x HP"
   ]
  },
  {
   "cell_type": "code",
   "execution_count": 12,
   "metadata": {},
   "outputs": [
    {
     "data": {
      "image/png": "[encoded data removed]",
      "text/plain": [
       "<Figure size 432x720 with 3 Axes>"
      ]
     },
     "metadata": {
      "needs_background": "light"
     },
     "output_type": "display_data"
    }
   ],
   "source": [
    "n = 4\n",
    "idx=desc_idx.index[desc_idx==n]\n",
    "pls = pw_list.pulse[idx[0]]\n",
    "#print(pls) # uncomment this if you want to read the pulse as JSON\n",
    "fig, axes = als.plot_waves(pls)"
   ]
  },
  {
   "cell_type": "markdown",
   "metadata": {},
   "source": [
    "### Close look at a pusle with descriptor index 5\n",
    "1 x RP, 2 x LP, 1 x HP"
   ]
  },
  {
   "cell_type": "code",
   "execution_count": 13,
   "metadata": {
    "scrolled": false
   },
   "outputs": [
    {
     "data": {
      "image/png": "[encoded data removed]",
      "text/plain": [
       "<Figure size 648x720 with 4 Axes>"
      ]
     },
     "metadata": {
      "needs_background": "light"
     },
     "output_type": "display_data"
    }
   ],
   "source": [
    "n = 5\n",
    "idx=desc_idx.index[desc_idx==n]\n",
    "pls = pw_list.pulse[idx[0]]\n",
    "#print(pls) # uncomment this if you want to read the pulse as JSON\n",
    "fig, axes = als.plot_waves(pls)"
   ]
  }
 ],
 "metadata": {
  "kernelspec": {
   "display_name": "Python 3",
   "language": "python",
   "name": "python3"
  },
  "language_info": {
   "codemirror_mode": {
    "name": "ipython",
    "version": 3
   },
   "file_extension": ".py",
   "mimetype": "text/x-python",
   "name": "python",
   "nbconvert_exporter": "python",
   "pygments_lexer": "ipython3",
   "version": "3.6.9"
  }
 },
 "nbformat": 4,
 "nbformat_minor": 2
}
