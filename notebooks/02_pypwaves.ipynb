{
 "cells": [
  {
   "cell_type": "markdown",
   "metadata": {},
   "source": [
    "## pypwaves\n",
    "*Work with PusleWaves data using [an editted version of pypwaves]()*"
   ]
  },
  {
   "cell_type": "code",
   "execution_count": 1,
   "metadata": {},
   "outputs": [],
   "source": [
    "import pypwaves.base as pypwaves"
   ]
  },
  {
   "cell_type": "markdown",
   "metadata": {},
   "source": [
    "#### Get data\n",
    "\n",
    "Fetch data from the NYU repo. If you want a local file, skip this step and set the file path in the next code block."
   ]
  },
  {
   "cell_type": "markdown",
   "metadata": {
    "scrolled": false
   },
   "source": [
    "line='161348'\n",
    "\n",
    "!mkdir -p tmp\n",
    "!grep '\\<.*fwf_plswvs.*'$line'.*\\>' ../data/metadata/sp19-bitstreams.json | tr -d ',' | xargs wget -P tmp -nd --no-check-certificate -P tmp\n",
    "!unzip tmp/*.zip -d tmp\n",
    "!rm -rf tmp/*.zip\n",
    "!find tmp -type f -exec mv {} \"../data/pw\" \\;\n",
    "!rm -rf tmp"
   ]
  },
  {
   "cell_type": "markdown",
   "metadata": {},
   "source": [
    "#### Initiate a PulseWaves object"
   ]
  },
  {
   "cell_type": "code",
   "execution_count": 2,
   "metadata": {
    "scrolled": true
   },
   "outputs": [],
   "source": [
    "pw_path = '../data/pw/10552_NYU_M2_Pulse_Waves_MTA_Resolved-Scanner1-190511_161348_1-originalpoints.pls'\n",
    "pw_file = pypwaves.openPLS(pw_path)"
   ]
  },
  {
   "cell_type": "markdown",
   "metadata": {},
   "source": [
    "#### Access a pulse"
   ]
  },
  {
   "cell_type": "code",
   "execution_count": 3,
   "metadata": {
    "scrolled": true
   },
   "outputs": [
    {
     "name": "stdout",
     "output_type": "stream",
     "text": [
      "classification       0\n",
      "dx                   -0.06716149999992922\n",
      "dy                   -0.007135000000009314\n",
      "dz                   -0.13377050000000007\n",
      "edge                 0\n",
      "facet                [0, 1]\n",
      "first_return         0\n",
      "gps_timestamp        576832.3845169999\n",
      "intensity            0\n",
      "last_return          0\n",
      "offset_to_waves      60\n",
      "pulse_descriptor     200002\n",
      "pulse_number         0\n",
      "reserved             [0, 0, 0, 0]\n",
      "scan_direction       0\n",
      "x_anchor             980394.1475\n",
      "x_target             980326.986\n",
      "y_anchor             172674.77325\n",
      "y_target             172667.63825\n",
      "z_anchor             1131.247\n",
      "z_target             997.4765\n"
     ]
    }
   ],
   "source": [
    "pls = pw_file.get_pulse(pulse_number = 0)\n",
    "pls.print_table()"
   ]
  },
  {
   "cell_type": "markdown",
   "metadata": {},
   "source": [
    "#### Access waves of a pulse"
   ]
  },
  {
   "cell_type": "code",
   "execution_count": 4,
   "metadata": {},
   "outputs": [
    {
     "name": "stdout",
     "output_type": "stream",
     "text": [
      "compression          0\n",
      "file_sig             PulseWavesWaves\n",
      "filename             ../data/pw/10552_NYU_M2_Pulse_Waves_MTA_Resolved-Scanner1-190511_161348_1-originalpoints.wvs\n",
      "reserved             (0, 0, 0, 0, 0, 0, 0, 0, 0, 0, 0, 0, 0, 0, 0, 0, 0, 0, 0, 0, 0, 0, 0, 0, 0, 0, 0, 0, 0, 0, 0, 0, 0, 0, 0, 0, 0, 0, 0, 0)\n",
      "segments             dict_keys([0, 1])\n"
     ]
    }
   ],
   "source": [
    "waves = pw_file.get_waves(pulse_record = 0)\n",
    "waves.print_table()"
   ]
  },
  {
   "cell_type": "markdown",
   "metadata": {},
   "source": [
    "#### Plot waves of a pulse"
   ]
  },
  {
   "cell_type": "code",
   "execution_count": 5,
   "metadata": {},
   "outputs": [
    {
     "data": {
      "image/png": "[encoded data removed]",
      "text/plain": [
       "<Figure size 432x288 with 2 Axes>"
      ]
     },
     "metadata": {
      "needs_background": "light"
     },
     "output_type": "display_data"
    }
   ],
   "source": [
    "waves.plot()"
   ]
  }
 ],
 "metadata": {
  "kernelspec": {
   "display_name": "Python 3",
   "language": "python",
   "name": "python3"
  },
  "language_info": {
   "codemirror_mode": {
    "name": "ipython",
    "version": 3
   },
   "file_extension": ".py",
   "mimetype": "text/x-python",
   "name": "python",
   "nbconvert_exporter": "python",
   "pygments_lexer": "ipython3",
   "version": "3.6.9"
  }
 },
 "nbformat": 4,
 "nbformat_minor": 2
}
