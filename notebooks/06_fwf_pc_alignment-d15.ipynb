{
 "cells": [
  {
   "cell_type": "markdown",
   "metadata": {},
   "source": [
    "## FWF and point cloud data alignment\n",
    "\n",
    "*Align each pulse in the PulseWaves file with its returns in the point cloud file*"
   ]
  },
  {
   "cell_type": "markdown",
   "metadata": {},
   "source": [
    "### Preparation"
   ]
  },
  {
   "cell_type": "markdown",
   "metadata": {},
   "source": [
    "Fetch the data from the SDR if you do not have them locally. Otherwise, set the local file pathss in the next code block."
   ]
  },
  {
   "cell_type": "code",
   "execution_count": 1,
   "metadata": {},
   "outputs": [
    {
     "name": "stdout",
     "output_type": "stream",
     "text": [
      "--2020-08-01 10:07:42--  https://archive.nyu.edu/retrieve/79993/nyu_2451_38625_pc_F_150326_115601.zip\n",
      "Resolving archive.nyu.edu (archive.nyu.edu)... 128.122.108.142\n",
      "Connecting to archive.nyu.edu (archive.nyu.edu)|128.122.108.142|:443... connected.\n",
      "WARNING: cannot verify archive.nyu.edu's certificate, issued by ‘CN=InCommon RSA Server CA,OU=InCommon,O=Internet2,L=Ann Arbor,ST=MI,C=US’:\n",
      "  Unable to locally verify the issuer's authority.\n",
      "HTTP request sent, awaiting response... 200 OK\n",
      "Length: 89911675 (86M) [application/octet-stream]\n",
      "Saving to: ‘tmp1596272862.20098/nyu_2451_38625_pc_F_150326_115601.zip’\n",
      "\n",
      "nyu_2451_38625_pc_F 100%[===================>]  85.75M  13.6MB/s    in 6.7s    \n",
      "\n",
      "2020-08-01 10:07:51 (12.8 MB/s) - ‘tmp1596272862.20098/nyu_2451_38625_pc_F_150326_115601.zip’ saved [89911675/89911675]\n",
      "\n",
      "Archive:  tmp1596272862.20098/nyu_2451_38625_pc_F_150326_115601.zip\n",
      "   creating: tmp1596272862.20098/nyu_2451_38625_laz/\n",
      "  inflating: tmp1596272862.20098/nyu_2451_38625_laz/F_150326_115601.laz  \n",
      "moving tmp1596272862.20098/nyu_2451_38625_laz/F_150326_115601.laz to ../data/pc-laz\n",
      "Check /home/vvo/code/vvogit/sunsetpark/data/pc-laz for output\n",
      "--2020-08-01 10:07:52--  https://archive.nyu.edu/retrieve/79995/nyu_2451_38625_fwf_plswvs_F_150326_115601.zip\n",
      "Resolving archive.nyu.edu (archive.nyu.edu)... 128.122.108.142\n",
      "Connecting to archive.nyu.edu (archive.nyu.edu)|128.122.108.142|:443... connected.\n",
      "WARNING: cannot verify archive.nyu.edu's certificate, issued by ‘CN=InCommon RSA Server CA,OU=InCommon,O=Internet2,L=Ann Arbor,ST=MI,C=US’:\n",
      "  Unable to locally verify the issuer's authority.\n",
      "HTTP request sent, awaiting response... 200 OK\n",
      "Length: 961431605 (917M) [application/octet-stream]\n",
      "Saving to: ‘tmp1596272872.20114/nyu_2451_38625_fwf_plswvs_F_150326_115601.zip’\n",
      "\n",
      "nyu_2451_38625_fwf_ 100%[===================>] 916.89M  13.5MB/s    in 71s     \n",
      "\n",
      "2020-08-01 10:09:03 (12.9 MB/s) - ‘tmp1596272872.20114/nyu_2451_38625_fwf_plswvs_F_150326_115601.zip’ saved [961431605/961431605]\n",
      "\n",
      "Archive:  tmp1596272872.20114/nyu_2451_38625_fwf_plswvs_F_150326_115601.zip\n",
      "   creating: tmp1596272872.20114/nyu_2451_38625_pulse/\n",
      "  inflating: tmp1596272872.20114/nyu_2451_38625_pulse/F_150326_115601.pls  \n",
      "  inflating: tmp1596272872.20114/nyu_2451_38625_pulse/F_150326_115601.wvs  \n",
      "moving tmp1596272872.20114/nyu_2451_38625_pulse/F_150326_115601.pls to ../data/fwf-pw\n",
      "moving tmp1596272872.20114/nyu_2451_38625_pulse/F_150326_115601.wvs to ../data/fwf-pw\n",
      "Check /home/vvo/code/vvogit/sunsetpark/data/fwf-pw for output\n",
      "2020-08-01 10:09:21,422 [main] DEBUG umg.core.lidar.protobuf.cli.PW2Proto - Offset: [316000.000, 234000.000, 0.000, , 0.000]\n",
      "2020-08-01 10:09:21,423 [main] DEBUG umg.core.lidar.protobuf.cli.PW2Proto - Scale: [0.001, 0.001, 0.001, , 0.000]\n",
      "2020-08-01 10:09:21,423 [main] DEBUG umg.core.lidar.protobuf.cli.PW2Proto - Flight ID map contains 41 entries.\n",
      "2020-08-01 10:09:21,427 [main] DEBUG umg.core.lidar.protobuf.cli.PW2Proto - File source ID: 1\n",
      "2020-08-01 10:09:21,428 [pool-1-thread-1] INFO  umg.core.lidar.protobuf.cli.PW2Proto - Processing /home/vvo/code/vvogit/sunsetpark/notebooks/../data/fwf-pw/F_150326_115601.pls\n",
      "Processing /home/vvo/code/vvogit/sunsetpark/notebooks/../data/fwf-pw/F_150326_115601.pls\n",
      "2020-08-01 10:09:21,431 [pool-1-thread-1] DEBUG umg.core.lidar.pulsewaves.PVariableLengthRecord - VLR length: 208\n",
      "2020-08-01 10:09:21,431 [pool-1-thread-1] WARN  umg.core.lidar.protobuf.cli.PW2Proto - No support for vlr #34735\n",
      "2020-08-01 10:09:21,431 [pool-1-thread-1] DEBUG umg.core.lidar.pulsewaves.PVariableLengthRecord - VLR length: 64\n",
      "2020-08-01 10:09:21,431 [pool-1-thread-1] WARN  umg.core.lidar.protobuf.cli.PW2Proto - No support for vlr #34736\n",
      "2020-08-01 10:09:21,431 [pool-1-thread-1] DEBUG umg.core.lidar.pulsewaves.PVariableLengthRecord - VLR length: 79\n",
      "2020-08-01 10:09:21,431 [pool-1-thread-1] WARN  umg.core.lidar.protobuf.cli.PW2Proto - No support for vlr #34737\n",
      "2020-08-01 10:09:21,432 [pool-1-thread-1] DEBUG umg.core.lidar.pulsewaves.PVariableLengthRecord - VLR length: 248\n",
      "2020-08-01 10:09:21,432 [pool-1-thread-1] DEBUG umg.core.lidar.pulsewaves.PVariableLengthRecord - VLR length: 1184\n",
      "2020-08-01 10:09:21,432 [pool-1-thread-1] DEBUG umg.core.lidar.pulsewaves.PVariableLengthRecord - VLR length: 1184\n",
      "2020-08-01 10:09:21,432 [pool-1-thread-1] DEBUG umg.core.lidar.pulsewaves.PVariableLengthRecord - VLR length: 196\n",
      "2020-08-01 10:09:21,433 [pool-1-thread-1] DEBUG umg.core.lidar.pulsewaves.PVariableLengthRecord - VLR length: 300\n",
      "2020-08-01 10:09:21,433 [pool-1-thread-1] DEBUG umg.core.lidar.pulsewaves.PVariableLengthRecord - VLR length: 404\n",
      "2020-08-01 10:09:21,433 [pool-1-thread-1] DEBUG umg.core.lidar.pulsewaves.PVariableLengthRecord - VLR length: 300\n",
      "2020-08-01 10:09:21,433 [pool-1-thread-1] DEBUG umg.core.lidar.pulsewaves.PVariableLengthRecord - VLR length: 404\n",
      "2020-08-01 10:09:21,433 [pool-1-thread-1] DEBUG umg.core.lidar.pulsewaves.PVariableLengthRecord - VLR length: 404\n",
      "2020-08-01 10:09:21,434 [pool-1-thread-1] DEBUG umg.core.lidar.pulsewaves.PVariableLengthRecord - VLR length: 300\n",
      "2020-08-01 10:09:21,434 [pool-1-thread-1] DEBUG umg.core.lidar.pulsewaves.PVariableLengthRecord - VLR length: 404\n",
      "2020-08-01 10:09:21,434 [pool-1-thread-1] DEBUG umg.core.lidar.pulsewaves.PVariableLengthRecord - VLR length: 404\n",
      "2020-08-01 10:09:21,434 [pool-1-thread-1] DEBUG umg.core.lidar.pulsewaves.PVariableLengthRecord - VLR length: 404\n",
      "2020-08-01 10:09:21,434 [pool-1-thread-1] DEBUG umg.core.lidar.pulsewaves.PVariableLengthRecord - VLR length: 404\n",
      "2020-08-01 10:09:21,434 [pool-1-thread-1] DEBUG umg.core.lidar.pulsewaves.PVariableLengthRecord - VLR length: 300\n",
      "Complete processing 1/1 files\n"
     ]
    }
   ],
   "source": [
    "project='d15' # project name, 'd15' for Dublin 2015 or 'sp19' for Sunset Park 2019\n",
    "line='115601' # flight line number, get from the index map or the bitstreams.json or the meta.json files\n",
    "\n",
    "# fetch point cloud\n",
    "!../scripts/fetch.sh $project $line pc\n",
    "\n",
    "# fetch pulsewaves\n",
    "!../scripts/fetch.sh $project $line fwf-pw\n",
    "\n",
    "# convert a segment of the pulsewaves file to pwmsg format\n",
    "!mkdir -p ../data/pwmsg\n",
    "!java -jar \"../jar/umg-cli-0.2.0-SNAPSHOT-jar-with-dependencies.jar\" pw2proto -idir ../data/fwf-pw -odir ../data/pwmsg -meta_file ../data/metadata/$project-meta.json -segment 100000 -subseq 0 5000"
   ]
  },
  {
   "cell_type": "markdown",
   "metadata": {},
   "source": [
    "The paths below must be set manually."
   ]
  },
  {
   "cell_type": "code",
   "execution_count": 2,
   "metadata": {},
   "outputs": [
    {
     "name": "stdout",
     "output_type": "stream",
     "text": [
      "../data/fwf-pw/F_150326_115601.pls\n",
      "../data/pwmsg/F_150326_115601-0.pwmsg\n",
      "../data/pc-laz/F_150326_115601.laz\n"
     ]
    }
   ],
   "source": [
    "# pulsewaves file\n",
    "plswvs_fname = '../data/fwf-pw/F_150326_115601.pls'\n",
    "\n",
    "# pwmsg file\n",
    "pwmsg_fname = '../data/pwmsg/F_150326_115601-0.pwmsg'\n",
    "\n",
    "# point cloud file\n",
    "pc_fname = '../data/pc-laz/F_150326_115601.laz'\n",
    "\n",
    "# check if the paths are valid\n",
    "!ls $plswvs_fname\n",
    "!ls $pwmsg_fname\n",
    "!ls $pc_fname"
   ]
  },
  {
   "cell_type": "markdown",
   "metadata": {},
   "source": [
    "Dependencies"
   ]
  },
  {
   "cell_type": "code",
   "execution_count": 3,
   "metadata": {},
   "outputs": [],
   "source": [
    "import pandas as pd\n",
    "import numpy as np\n",
    "import matplotlib.pyplot as plt\n",
    "\n",
    "from laspy.file import File\n",
    "import pypwaves.base as pypwaves\n",
    "\n",
    "from als.pulsewaves import PulseWaves\n",
    "from als.mess import get_points_by_time_brute_force as get_points\n",
    "\n",
    "from datetime import datetime\n",
    "from als.base import GPSTimeUtil\n",
    "timeutil = GPSTimeUtil(flight_date = datetime(2015,3,26))"
   ]
  },
  {
   "cell_type": "markdown",
   "metadata": {},
   "source": [
    "### Data parsing\n",
    "\n",
    "Data parsing is required only once. This does not need to be rerun for each pulse index."
   ]
  },
  {
   "cell_type": "code",
   "execution_count": 4,
   "metadata": {},
   "outputs": [],
   "source": [
    "pw = PulseWaves(pwmsg_fname)\n",
    "ppw = pypwaves.openPLS(plswvs_fname)\n",
    "pcloud = File(pc_fname, mode = \"r\")"
   ]
  },
  {
   "cell_type": "markdown",
   "metadata": {},
   "source": [
    "### Pulse index\n",
    "\n",
    "Change the pusle index and run the subsequent code blocks to observe the pulse"
   ]
  },
  {
   "cell_type": "code",
   "execution_count": 5,
   "metadata": {},
   "outputs": [],
   "source": [
    "pls_idx = 0"
   ]
  },
  {
   "cell_type": "markdown",
   "metadata": {},
   "source": [
    "### The pulse in the PWMsg file"
   ]
  },
  {
   "cell_type": "code",
   "execution_count": 6,
   "metadata": {
    "scrolled": false
   },
   "outputs": [
    {
     "data": {
      "image/png": "[encoded data removed]",
      "text/plain": [
       "<Figure size 432x720 with 4 Axes>"
      ]
     },
     "metadata": {
      "needs_background": "light"
     },
     "output_type": "display_data"
    }
   ],
   "source": [
    "# get the pulse given the index\n",
    "pulse = pw.get_pulse(pls_idx)\n",
    "\n",
    "# compute the timestamp of the pulse to match with the point cloud returns\n",
    "timestamp = pulse.timestamp * pw.scale.loc['t']['scale'] + pw.scale.loc['t']['offset']\n",
    "\n",
    "# plot the waves\n",
    "fig, axes = pw.plot_waves(pulse, title = 'Pulse #{}\\nTimestamp: {}\\n({})'.format(pls_idx, timestamp, timeutil.gpstime_to_datetime(timestamp)))"
   ]
  },
  {
   "cell_type": "markdown",
   "metadata": {},
   "source": [
    "### The pulse in the PulseWaves file\n",
    "\n",
    "To double check the waves seen in the PWMsg file, look at the waves as parsed using [PyPWaves](pypwaves)."
   ]
  },
  {
   "cell_type": "code",
   "execution_count": 7,
   "metadata": {
    "scrolled": true
   },
   "outputs": [
    {
     "data": {
      "image/png": "[encoded data removed]",
      "text/plain": [
       "<Figure size 432x288 with 2 Axes>"
      ]
     },
     "metadata": {
      "needs_background": "light"
     },
     "output_type": "display_data"
    }
   ],
   "source": [
    "waves = ppw.get_waves(pulse_record = pls_idx)\n",
    "waves.plot()"
   ]
  },
  {
   "cell_type": "markdown",
   "metadata": {},
   "source": [
    "The waves parsed by PWMsg and PyPWaves match. The only difference is that PyWaves does not show all the segments and channels."
   ]
  },
  {
   "cell_type": "markdown",
   "metadata": {},
   "source": [
    "### The corresponding returns\n",
    "\n",
    "Retrieve the returns in the point cloud that match the pulse's timestamp"
   ]
  },
  {
   "cell_type": "code",
   "execution_count": 8,
   "metadata": {
    "scrolled": true
   },
   "outputs": [
    {
     "name": "stdout",
     "output_type": "stream",
     "text": [
      "number of points found: 2\n"
     ]
    },
    {
     "data": {
      "text/html": [
       "<div>\n",
       "<style scoped>\n",
       "    .dataframe tbody tr th:only-of-type {\n",
       "        vertical-align: middle;\n",
       "    }\n",
       "\n",
       "    .dataframe tbody tr th {\n",
       "        vertical-align: top;\n",
       "    }\n",
       "\n",
       "    .dataframe thead th {\n",
       "        text-align: right;\n",
       "    }\n",
       "</style>\n",
       "<table border=\"1\" class=\"dataframe\">\n",
       "  <thead>\n",
       "    <tr style=\"text-align: right;\">\n",
       "      <th></th>\n",
       "      <th>point</th>\n",
       "      <th>x</th>\n",
       "      <th>y</th>\n",
       "      <th>z</th>\n",
       "      <th>intensity</th>\n",
       "      <th>return_num</th>\n",
       "      <th>num_returns</th>\n",
       "      <th>timestamp</th>\n",
       "    </tr>\n",
       "  </thead>\n",
       "  <tbody>\n",
       "    <tr>\n",
       "      <td>0</td>\n",
       "      <td>&lt;laspy.util.Point object at 0x7faea0b15898&gt;</td>\n",
       "      <td>315459.722</td>\n",
       "      <td>233580.778</td>\n",
       "      <td>-61.811</td>\n",
       "      <td>8</td>\n",
       "      <td>2</td>\n",
       "      <td>2</td>\n",
       "      <td>388567.044563</td>\n",
       "    </tr>\n",
       "    <tr>\n",
       "      <td>13291790</td>\n",
       "      <td>&lt;laspy.util.Point object at 0x7faea0b152e8&gt;</td>\n",
       "      <td>315434.282</td>\n",
       "      <td>233547.335</td>\n",
       "      <td>10.737</td>\n",
       "      <td>103</td>\n",
       "      <td>1</td>\n",
       "      <td>2</td>\n",
       "      <td>388567.044563</td>\n",
       "    </tr>\n",
       "  </tbody>\n",
       "</table>\n",
       "</div>"
      ],
      "text/plain": [
       "                                                point           x           y  \\\n",
       "0         <laspy.util.Point object at 0x7faea0b15898>  315459.722  233580.778   \n",
       "13291790  <laspy.util.Point object at 0x7faea0b152e8>  315434.282  233547.335   \n",
       "\n",
       "               z  intensity  return_num  num_returns      timestamp  \n",
       "0        -61.811          8           2            2  388567.044563  \n",
       "13291790  10.737        103           1            2  388567.044563  "
      ]
     },
     "execution_count": 8,
     "metadata": {},
     "output_type": "execute_result"
    }
   ],
   "source": [
    "# get the points given a timestamp\n",
    "pts = get_points(pcloud, timestamp)\n",
    "print('number of points found: {}'.format(len(pts)))\n",
    "\n",
    "# format the points and print them\n",
    "pts['intensity'] = pts['point'].apply(lambda _:_.intensity)\n",
    "pts['return_num'] = pts['point'].apply(lambda _:_.return_num)\n",
    "pts['num_returns'] = pts['point'].apply(lambda _:_.num_returns)\n",
    "pts['timestamp'] = pts['point'].apply(lambda _:_.gps_time)\n",
    "pts"
   ]
  },
  {
   "cell_type": "markdown",
   "metadata": {},
   "source": [
    "### Conclusion\n",
    "\n",
    "The alignment is clear for most of the pulses when looking at the elevation (z) values."
   ]
  }
 ],
 "metadata": {
  "kernelspec": {
   "display_name": "Python 3",
   "language": "python",
   "name": "python3"
  },
  "language_info": {
   "codemirror_mode": {
    "name": "ipython",
    "version": 3
   },
   "file_extension": ".py",
   "mimetype": "text/x-python",
   "name": "python",
   "nbconvert_exporter": "python",
   "pygments_lexer": "ipython3",
   "version": "3.6.9"
  }
 },
 "nbformat": 4,
 "nbformat_minor": 2
}
