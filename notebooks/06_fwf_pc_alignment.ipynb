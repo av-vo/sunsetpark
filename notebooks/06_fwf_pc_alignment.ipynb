{
 "cells": [
  {
   "cell_type": "markdown",
   "metadata": {},
   "source": [
    "## FWF and point cloud data alignment\n",
    "\n",
    "*Align each pulse in the PulseWaves file with its returns in the point cloud file*"
   ]
  },
  {
   "cell_type": "markdown",
   "metadata": {},
   "source": [
    "### Preparation"
   ]
  },
  {
   "cell_type": "markdown",
   "metadata": {},
   "source": [
    "Fetch the data from the SDR if you do not have them locally. Otherwise, set the local file pathss in the next code block."
   ]
  },
  {
   "cell_type": "code",
   "execution_count": 1,
   "metadata": {
    "scrolled": false
   },
   "outputs": [
    {
     "name": "stdout",
     "output_type": "stream",
     "text": [
      "--2020-08-01 10:36:44--  https://archive.nyu.edu/bitstream/2451/60462/4/nyu_2451_60462_pc_FD_190511_161348.zip\n",
      "Resolving archive.nyu.edu (archive.nyu.edu)... 128.122.108.142\n",
      "Connecting to archive.nyu.edu (archive.nyu.edu)|128.122.108.142|:443... connected.\n",
      "WARNING: cannot verify archive.nyu.edu's certificate, issued by ‘CN=InCommon RSA Server CA,OU=InCommon,O=Internet2,L=Ann Arbor,ST=MI,C=US’:\n",
      "  Unable to locally verify the issuer's authority.\n",
      "HTTP request sent, awaiting response... 200 OK\n",
      "Length: 41456706 (40M) [application/octet-stream]\n",
      "Saving to: ‘tmp1596274604.21281/nyu_2451_60462_pc_FD_190511_161348.zip’\n",
      "\n",
      "nyu_2451_60462_pc_F 100%[===================>]  39.54M  10.3MB/s    in 4.5s    \n",
      "\n",
      "2020-08-01 10:36:50 (8.86 MB/s) - ‘tmp1596274604.21281/nyu_2451_60462_pc_FD_190511_161348.zip’ saved [41456706/41456706]\n",
      "\n",
      "Archive:  tmp1596274604.21281/nyu_2451_60462_pc_FD_190511_161348.zip\n",
      "  inflating: tmp1596274604.21281/nyu_2451_60462_pc_FD_190511_161348/1552_NYU_M2-Scanner1-190511_161348_1-originalpoints.laz  \n",
      "moving tmp1596274604.21281/nyu_2451_60462_pc_FD_190511_161348/1552_NYU_M2-Scanner1-190511_161348_1-originalpoints.laz to ../data/pc-laz\n",
      "Check /home/vvo/code/vvogit/sunsetpark/data/pc-laz for output\n",
      "--2020-08-01 10:36:50--  https://archive.nyu.edu/bitstream/2451/60462/5/nyu_2451_60462_fwf_plswvs_FD_190511_161348.zip\n",
      "Resolving archive.nyu.edu (archive.nyu.edu)... 128.122.108.142\n",
      "Connecting to archive.nyu.edu (archive.nyu.edu)|128.122.108.142|:443... connected.\n",
      "WARNING: cannot verify archive.nyu.edu's certificate, issued by ‘CN=InCommon RSA Server CA,OU=InCommon,O=Internet2,L=Ann Arbor,ST=MI,C=US’:\n",
      "  Unable to locally verify the issuer's authority.\n",
      "HTTP request sent, awaiting response... 200 OK\n",
      "Length: 527670310 (503M) [application/octet-stream]\n",
      "Saving to: ‘tmp1596274610.21341/nyu_2451_60462_fwf_plswvs_FD_190511_161348.zip’\n",
      "\n",
      "nyu_2451_60462_fwf_ 100%[===================>] 503.23M  12.3MB/s    in 42s     \n",
      "\n",
      "2020-08-01 10:37:32 (12.1 MB/s) - ‘tmp1596274610.21341/nyu_2451_60462_fwf_plswvs_FD_190511_161348.zip’ saved [527670310/527670310]\n",
      "\n",
      "Archive:  tmp1596274610.21341/nyu_2451_60462_fwf_plswvs_FD_190511_161348.zip\n",
      "  inflating: tmp1596274610.21341/nyu_2451_60462_fwf_plswvs_FD_190511_161348/10552_NYU_M2_Pulse_Waves_MTA_Resolved-Scanner1-190511_161348_1-originalpoints.pls  \n",
      "  inflating: tmp1596274610.21341/nyu_2451_60462_fwf_plswvs_FD_190511_161348/10552_NYU_M2_Pulse_Waves_MTA_Resolved-Scanner1-190511_161348_1-originalpoints.wvs  \n",
      "moving tmp1596274610.21341/nyu_2451_60462_fwf_plswvs_FD_190511_161348/10552_NYU_M2_Pulse_Waves_MTA_Resolved-Scanner1-190511_161348_1-originalpoints.wvs to ../data/fwf-pw\n",
      "moving tmp1596274610.21341/nyu_2451_60462_fwf_plswvs_FD_190511_161348/10552_NYU_M2_Pulse_Waves_MTA_Resolved-Scanner1-190511_161348_1-originalpoints.pls to ../data/fwf-pw\n",
      "Check /home/vvo/code/vvogit/sunsetpark/data/fwf-pw for output\n",
      "2020-08-01 10:37:41,999 [main] DEBUG umg.core.lidar.protobuf.cli.PW2Proto - Offset: [977000.000, 173000.000, 0.000, , 0.000]\n",
      "2020-08-01 10:37:42,000 [main] DEBUG umg.core.lidar.protobuf.cli.PW2Proto - Scale: [0.001, 0.001, 0.001, , 0.000]\n",
      "2020-08-01 10:37:42,000 [main] DEBUG umg.core.lidar.protobuf.cli.PW2Proto - Flight ID map contains 85 entries.\n",
      "2020-08-01 10:37:42,004 [main] DEBUG umg.core.lidar.protobuf.cli.PW2Proto - File source ID: 1\n",
      "2020-08-01 10:37:42,005 [pool-1-thread-1] INFO  umg.core.lidar.protobuf.cli.PW2Proto - Processing /home/vvo/code/vvogit/sunsetpark/notebooks/../data/fwf-pw/10552_NYU_M2_Pulse_Waves_MTA_Resolved-Scanner1-190511_161348_1-originalpoints.pls\n",
      "Processing /home/vvo/code/vvogit/sunsetpark/notebooks/../data/fwf-pw/10552_NYU_M2_Pulse_Waves_MTA_Resolved-Scanner1-190511_161348_1-originalpoints.pls\n",
      "2020-08-01 10:37:42,008 [pool-1-thread-1] DEBUG umg.core.lidar.pulsewaves.PVariableLengthRecord - VLR length: 216\n",
      "2020-08-01 10:37:42,008 [pool-1-thread-1] WARN  umg.core.lidar.protobuf.cli.PW2Proto - No support for vlr #34735\n",
      "2020-08-01 10:37:42,008 [pool-1-thread-1] DEBUG umg.core.lidar.pulsewaves.PVariableLengthRecord - VLR length: 72\n",
      "2020-08-01 10:37:42,008 [pool-1-thread-1] WARN  umg.core.lidar.protobuf.cli.PW2Proto - No support for vlr #34736\n",
      "2020-08-01 10:37:42,009 [pool-1-thread-1] DEBUG umg.core.lidar.pulsewaves.PVariableLengthRecord - VLR length: 130\n",
      "2020-08-01 10:37:42,009 [pool-1-thread-1] WARN  umg.core.lidar.protobuf.cli.PW2Proto - No support for vlr #34737\n",
      "2020-08-01 10:37:42,009 [pool-1-thread-1] DEBUG umg.core.lidar.pulsewaves.PVariableLengthRecord - VLR length: 248\n",
      "2020-08-01 10:37:42,009 [pool-1-thread-1] DEBUG umg.core.lidar.pulsewaves.PVariableLengthRecord - VLR length: 1184\n",
      "2020-08-01 10:37:42,009 [pool-1-thread-1] DEBUG umg.core.lidar.pulsewaves.PVariableLengthRecord - VLR length: 1184\n",
      "2020-08-01 10:37:42,009 [pool-1-thread-1] DEBUG umg.core.lidar.pulsewaves.PVariableLengthRecord - VLR length: 196\n",
      "2020-08-01 10:37:42,010 [pool-1-thread-1] DEBUG umg.core.lidar.pulsewaves.PVariableLengthRecord - VLR length: 300\n",
      "2020-08-01 10:37:42,010 [pool-1-thread-1] DEBUG umg.core.lidar.pulsewaves.PVariableLengthRecord - VLR length: 404\n",
      "2020-08-01 10:37:42,010 [pool-1-thread-1] DEBUG umg.core.lidar.pulsewaves.PVariableLengthRecord - VLR length: 300\n",
      "2020-08-01 10:37:42,010 [pool-1-thread-1] DEBUG umg.core.lidar.pulsewaves.PVariableLengthRecord - VLR length: 404\n",
      "2020-08-01 10:37:42,010 [pool-1-thread-1] DEBUG umg.core.lidar.pulsewaves.PVariableLengthRecord - VLR length: 404\n",
      "2020-08-01 10:37:42,010 [pool-1-thread-1] DEBUG umg.core.lidar.pulsewaves.PVariableLengthRecord - VLR length: 300\n",
      "2020-08-01 10:37:42,011 [pool-1-thread-1] DEBUG umg.core.lidar.pulsewaves.PVariableLengthRecord - VLR length: 404\n",
      "2020-08-01 10:37:42,011 [pool-1-thread-1] DEBUG umg.core.lidar.pulsewaves.PVariableLengthRecord - VLR length: 404\n",
      "2020-08-01 10:37:42,011 [pool-1-thread-1] DEBUG umg.core.lidar.pulsewaves.PVariableLengthRecord - VLR length: 404\n",
      "2020-08-01 10:37:42,011 [pool-1-thread-1] DEBUG umg.core.lidar.pulsewaves.PVariableLengthRecord - VLR length: 404\n",
      "2020-08-01 10:37:42,011 [pool-1-thread-1] DEBUG umg.core.lidar.pulsewaves.PVariableLengthRecord - VLR length: 300\n",
      "Complete processing 1/1 files\n"
     ]
    }
   ],
   "source": [
    "project='sp19' # project name, 'd15' for Dublin 2015 or 'sp19' for Sunset Park 2019\n",
    "line='161348' # flight line number, get from the index map or the bitstreams.json or the meta.json files\n",
    "\n",
    "# fetch point cloud\n",
    "!../scripts/fetch.sh $project $line pc\n",
    "\n",
    "# fetch pulsewaves\n",
    "!../scripts/fetch.sh $project $line fwf-pw\n",
    "\n",
    "# convert a segment of the pulsewaves file to pwmsg format\n",
    "!mkdir -p ../data/pwmsg\n",
    "!java -jar \"../jar/umg-cli-0.2.0-SNAPSHOT-jar-with-dependencies.jar\" pw2proto -idir ../data/fwf-pw -odir ../data/pwmsg -meta_file ../data/metadata/$project-meta.json -segment 100000 -subseq 0 5000"
   ]
  },
  {
   "cell_type": "markdown",
   "metadata": {},
   "source": [
    "The paths below must be set manually."
   ]
  },
  {
   "cell_type": "code",
   "execution_count": 2,
   "metadata": {},
   "outputs": [
    {
     "name": "stdout",
     "output_type": "stream",
     "text": [
      "../data/fwf-pw/10552_NYU_M2_Pulse_Waves_MTA_Resolved-Scanner1-190511_161348_1-originalpoints.pls\n",
      "../data/pwmsg/10552_NYU_M2_Pulse_Waves_MTA_Resolved-Scanner1-190511_161348_1-originalpoints-0.pwmsg\n",
      "../data/pc-laz/1552_NYU_M2-Scanner1-190511_161348_1-originalpoints.laz\n"
     ]
    }
   ],
   "source": [
    "# pulsewaves file\n",
    "plswvs_fname = '../data/fwf-pw/10552_NYU_M2_Pulse_Waves_MTA_Resolved-Scanner1-190511_161348_1-originalpoints.pls'\n",
    "\n",
    "# pwmsg file\n",
    "pwmsg_fname = '../data/pwmsg/10552_NYU_M2_Pulse_Waves_MTA_Resolved-Scanner1-190511_161348_1-originalpoints-0.pwmsg'\n",
    "\n",
    "# point cloud file\n",
    "pc_fname = '../data/pc-laz/1552_NYU_M2-Scanner1-190511_161348_1-originalpoints.laz'\n",
    "\n",
    "# check if the paths are valid\n",
    "!ls $plswvs_fname\n",
    "!ls $pwmsg_fname\n",
    "!ls $pc_fname"
   ]
  },
  {
   "cell_type": "markdown",
   "metadata": {},
   "source": [
    "Dependencies"
   ]
  },
  {
   "cell_type": "code",
   "execution_count": 3,
   "metadata": {},
   "outputs": [],
   "source": [
    "import pandas as pd\n",
    "import numpy as np\n",
    "import matplotlib.pyplot as plt\n",
    "\n",
    "from laspy.file import File\n",
    "import pypwaves.base as pypwaves\n",
    "\n",
    "from als.pulsewaves import PulseWaves\n",
    "from als.mess import get_points_by_time_brute_force as get_points\n",
    "\n",
    "from datetime import datetime\n",
    "from als.base import GPSTimeUtil\n",
    "timeutil = GPSTimeUtil(flight_date = datetime(2015,3,26))"
   ]
  },
  {
   "cell_type": "markdown",
   "metadata": {},
   "source": [
    "### Data parsing\n",
    "\n",
    "Data parsing is required only once. This does not need to be rerun for each pulse index."
   ]
  },
  {
   "cell_type": "code",
   "execution_count": 4,
   "metadata": {},
   "outputs": [],
   "source": [
    "pw = PulseWaves(pwmsg_fname)\n",
    "ppw = pypwaves.openPLS(plswvs_fname)\n",
    "pcloud = File(pc_fname, mode = \"r\")"
   ]
  },
  {
   "cell_type": "markdown",
   "metadata": {},
   "source": [
    "### Pulse index\n",
    "\n",
    "Change the pusle index and run the subsequent code blocks to observe the pulse"
   ]
  },
  {
   "cell_type": "code",
   "execution_count": 5,
   "metadata": {},
   "outputs": [],
   "source": [
    "pls_idx = 0"
   ]
  },
  {
   "cell_type": "markdown",
   "metadata": {},
   "source": [
    "### The pulse in the PWMsg file"
   ]
  },
  {
   "cell_type": "code",
   "execution_count": 6,
   "metadata": {
    "scrolled": false
   },
   "outputs": [
    {
     "data": {
      "image/png": "[encoded data removed]",
      "text/plain": [
       "<Figure size 432x360 with 2 Axes>"
      ]
     },
     "metadata": {
      "needs_background": "light"
     },
     "output_type": "display_data"
    }
   ],
   "source": [
    "# get the pulse given the index\n",
    "pulse = pw.get_pulse(pls_idx)\n",
    "\n",
    "# compute the timestamp of the pulse to match with the point cloud returns\n",
    "timestamp = pulse.timestamp * pw.scale.loc['t']['scale'] + pw.scale.loc['t']['offset']\n",
    "\n",
    "# plot the waves\n",
    "fig, axes = pw.plot_waves(pulse, title = 'Pulse #{0}\\nTimestamp: {1: .6f}\\n({2})'.format(pls_idx, timestamp, timeutil.gpstime_to_datetime(timestamp)))"
   ]
  },
  {
   "cell_type": "markdown",
   "metadata": {},
   "source": [
    "The majority of the peaks in the returning samplings (i.e. Low Power and High Power channels) should be around 100 - 200 ft (i.e. returns from ground, trees, buildings). However, many of the peaks seen in the data are abnormally high. Many of them are higher than the helicopter's altitude. Looking closer at the data, I find that the values of the following fields are abnormal: \n",
    "    * `duration from anchor`\n",
    "    * `first returning sample`\n",
    "    * `last returning sample`"
   ]
  },
  {
   "cell_type": "markdown",
   "metadata": {},
   "source": [
    "### The pulse in the PulseWaves file\n",
    "\n",
    "To double check the waves seen in the PWMsg file, look at the waves as parsed using [PyPWaves](pypwaves)."
   ]
  },
  {
   "cell_type": "code",
   "execution_count": 7,
   "metadata": {
    "scrolled": false
   },
   "outputs": [
    {
     "data": {
      "image/png": "[encoded data removed]",
      "text/plain": [
       "<Figure size 432x288 with 2 Axes>"
      ]
     },
     "metadata": {
      "needs_background": "light"
     },
     "output_type": "display_data"
    }
   ],
   "source": [
    "waves = ppw.get_waves(pulse_record = pls_idx)\n",
    "waves.plot()"
   ]
  },
  {
   "cell_type": "markdown",
   "metadata": {},
   "source": [
    "The waves parsed by PWMsg and PyPWaves match. The only difference is that PyWaves does not show all the segments and channels."
   ]
  },
  {
   "cell_type": "markdown",
   "metadata": {},
   "source": [
    "### The corresponding returns\n",
    "\n",
    "Retrieve the returns in the point cloud that match the pulse's timestamp. \n",
    "\n",
    "Note that a correction factor is applied to acount for the difference in timestamp encoding in the PulseWaves and the point cloud files."
   ]
  },
  {
   "cell_type": "code",
   "execution_count": 8,
   "metadata": {
    "scrolled": true
   },
   "outputs": [
    {
     "data": {
      "text/html": [
       "<div>\n",
       "<style scoped>\n",
       "    .dataframe tbody tr th:only-of-type {\n",
       "        vertical-align: middle;\n",
       "    }\n",
       "\n",
       "    .dataframe tbody tr th {\n",
       "        vertical-align: top;\n",
       "    }\n",
       "\n",
       "    .dataframe thead th {\n",
       "        text-align: right;\n",
       "    }\n",
       "</style>\n",
       "<table border=\"1\" class=\"dataframe\">\n",
       "  <thead>\n",
       "    <tr style=\"text-align: right;\">\n",
       "      <th></th>\n",
       "      <th>x</th>\n",
       "      <th>y</th>\n",
       "      <th>z</th>\n",
       "      <th>intensity</th>\n",
       "      <th>return_num</th>\n",
       "      <th>num_return</th>\n",
       "      <th>timestamp</th>\n",
       "      <th>corrected_timestamp</th>\n",
       "    </tr>\n",
       "  </thead>\n",
       "  <tbody>\n",
       "    <tr>\n",
       "      <td>0</td>\n",
       "      <td>979884.627</td>\n",
       "      <td>172620.644</td>\n",
       "      <td>116.285</td>\n",
       "      <td>1227</td>\n",
       "      <td>1</td>\n",
       "      <td>2</td>\n",
       "      <td>58450.384517</td>\n",
       "      <td>576832.384517</td>\n",
       "    </tr>\n",
       "    <tr>\n",
       "      <td>1</td>\n",
       "      <td>979665.203</td>\n",
       "      <td>172597.332</td>\n",
       "      <td>-320.712</td>\n",
       "      <td>124</td>\n",
       "      <td>2</td>\n",
       "      <td>2</td>\n",
       "      <td>58450.384517</td>\n",
       "      <td>576832.384517</td>\n",
       "    </tr>\n",
       "  </tbody>\n",
       "</table>\n",
       "</div>"
      ],
      "text/plain": [
       "            x           y        z  intensity  return_num  num_return  \\\n",
       "0  979884.627  172620.644  116.285       1227           1           2   \n",
       "1  979665.203  172597.332 -320.712        124           2           2   \n",
       "\n",
       "      timestamp  corrected_timestamp  \n",
       "0  58450.384517        576832.384517  \n",
       "1  58450.384517        576832.384517  "
      ]
     },
     "execution_count": 8,
     "metadata": {},
     "output_type": "execute_result"
    }
   ],
   "source": [
    "corr = 6*24*60*60-18\n",
    "t = timestamp - corr\n",
    "full_idx = np.arange(len(pcloud))\n",
    "diff =  np.abs(pcloud.gps_time - t)\n",
    "diff_min = np.min(diff)\n",
    "mask = diff == diff_min\n",
    "idx = full_idx[mask]\n",
    "\n",
    "pts = pd.DataFrame({\n",
    "    'x': [ pcloud.get_x_scaled()[i] for i in idx ],\n",
    "    'y': [ pcloud.get_y_scaled()[i] for i in idx ],\n",
    "    'z': [ pcloud.get_z_scaled()[i] for i in idx ],\n",
    "    'intensity': [ pcloud.get_intensity()[i] for i in idx ],\n",
    "    'return_num': [ pcloud.get_return_num()[i] for i in idx ],\n",
    "    'num_return': [ pcloud.get_num_returns()[i] for i in idx ],\n",
    "    'timestamp': [ pcloud.get_gps_time()[i] for i in idx ],\n",
    "    'corrected_timestamp': [ pcloud.get_gps_time()[i] + corr for i in idx ],\n",
    "})\n",
    "\n",
    "pts"
   ]
  },
  {
   "cell_type": "markdown",
   "metadata": {},
   "source": [
    "### Conclusion\n",
    "\n",
    "Two problems seeen:\n",
    "\n",
    "1. Time encoding is different in the waveform files and the point cloud files.\n",
    "\n",
    "2. The pulses are not georeferenced correctly."
   ]
  }
 ],
 "metadata": {
  "kernelspec": {
   "display_name": "Python 3",
   "language": "python",
   "name": "python3"
  },
  "language_info": {
   "codemirror_mode": {
    "name": "ipython",
    "version": 3
   },
   "file_extension": ".py",
   "mimetype": "text/x-python",
   "name": "python",
   "nbconvert_exporter": "python",
   "pygments_lexer": "ipython3",
   "version": "3.6.9"
  }
 },
 "nbformat": 4,
 "nbformat_minor": 2
}
