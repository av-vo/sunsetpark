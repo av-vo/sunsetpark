{
 "cells": [
  {
   "cell_type": "markdown",
   "metadata": {},
   "source": [
    "## GPS Week-Second Time\n",
    "*Working with GPS Week-Second time in LAS and PulseWaves data*"
   ]
  },
  {
   "cell_type": "code",
   "execution_count": 1,
   "metadata": {},
   "outputs": [],
   "source": [
    "from datetime import datetime\n",
    "from als.base import GPSTimeUtil"
   ]
  },
  {
   "cell_type": "code",
   "execution_count": 2,
   "metadata": {},
   "outputs": [
    {
     "name": "stdout",
     "output_type": "stream",
     "text": [
      "388567.044563 secs -> 2015-03-26 11:56:07.044563\n",
      "2015-03-26 11:56:07.044563 -> 388567.044563 secs\n"
     ]
    }
   ],
   "source": [
    "# initiate a time util\n",
    "timeutil = GPSTimeUtil(flight_date = datetime(2015,3,26))\n",
    "\n",
    "# convert gps time to date time\n",
    "gpstime = 388567.044563\n",
    "dt = timeutil.gpstime_to_datetime(gpstime)\n",
    "print('{} secs -> {}'.format(gpstime, dt))\n",
    "\n",
    "# convert date time to gps time\n",
    "gpstime_ = timeutil.gpstime_from_datetime(dt)\n",
    "print('{} -> {} secs'.format(dt, gpstime_))\n",
    "\n",
    "assert(gpstime == gpstime_)"
   ]
  },
  {
   "cell_type": "markdown",
   "metadata": {},
   "source": [
    "### References \n",
    "\n",
    "* [LAS 1.4 explained](https://www.asprs.org/wp-content/uploads/2010/12/LAS_Specification.pdf)\n",
    "\n",
    "* [GeoCue Time Converter Utility](https://support.geocue.com/gps-time-converter-utility/)"
   ]
  }
 ],
 "metadata": {
  "kernelspec": {
   "display_name": "Python 3",
   "language": "python",
   "name": "python3"
  },
  "language_info": {
   "codemirror_mode": {
    "name": "ipython",
    "version": 3
   },
   "file_extension": ".py",
   "mimetype": "text/x-python",
   "name": "python",
   "nbconvert_exporter": "python",
   "pygments_lexer": "ipython3",
   "version": "3.6.9"
  }
 },
 "nbformat": 4,
 "nbformat_minor": 2
}
