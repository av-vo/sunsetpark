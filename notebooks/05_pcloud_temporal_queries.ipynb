{
 "cells": [
  {
   "cell_type": "markdown",
   "metadata": {},
   "source": [
    "## Point cloud query by time - brute force"
   ]
  },
  {
   "cell_type": "code",
   "execution_count": 1,
   "metadata": {},
   "outputs": [],
   "source": [
    "import numpy as np\n",
    "import pandas as pd\n",
    "from laspy.file import File"
   ]
  },
  {
   "cell_type": "markdown",
   "metadata": {
    "scrolled": true
   },
   "source": [
    "line='115601'\n",
    "src_dir = '../data/laz'\n",
    "\n",
    "!mkdir -p tmp\n",
    "!grep '\\<.*pc.*'$line'.*\\>' ../data/metadata/d15-bitstreams.json | tr -d ',' | xargs wget -P tmp -nd --no-check-certificate -P tmp\n",
    "!unzip tmp/*.zip -d tmp\n",
    "!rm -rf tmp/*.zip\n",
    "!mkdir -p $src_dir\n",
    "!find tmp -type f -exec mv {} $src_dir \\;\n",
    "!rm -rf tmp\n",
    "!ls $src_dir"
   ]
  },
  {
   "cell_type": "code",
   "execution_count": 2,
   "metadata": {},
   "outputs": [],
   "source": [
    "def get_points_by_time_brute_force(pcloud, t, tolerance = 1/1e6):\n",
    "    full_idx = np.arange(len(pcloud))\n",
    "    if isinstance(t, list):\n",
    "        mask = (pcloud.gps_time >= t[0]) & (pcloud.gps_time < t[1])\n",
    "    else:\n",
    "        diff =  np.abs(pcloud.gps_time - t)\n",
    "        diff_min = np.min(diff)\n",
    "        if diff_min > tolerance:\n",
    "            return None\n",
    "        mask = diff == diff_min\n",
    "    \n",
    "    idx = full_idx[mask]\n",
    "    \n",
    "    x = pcloud.get_x_scaled()\n",
    "    y = pcloud.get_y_scaled()\n",
    "    z = pcloud.get_z_scaled()\n",
    "    \n",
    "    result = pd.DataFrame( \n",
    "        {\n",
    "            'point' : [pcloud[i] for i in idx],\n",
    "            'x' : [x[i] for i in idx],\n",
    "            'y' : [y[i] for i in idx],\n",
    "            'z' : [z[i] for i in idx]\n",
    "        }, index = idx\n",
    "    )\n",
    "           \n",
    "    return result"
   ]
  },
  {
   "cell_type": "markdown",
   "metadata": {},
   "source": [
    "### Parse a point cloud"
   ]
  },
  {
   "cell_type": "code",
   "execution_count": 3,
   "metadata": {},
   "outputs": [],
   "source": [
    "pcloud = File(\"../data/laz/F_150326_115601.laz\", mode = \"r\")"
   ]
  },
  {
   "cell_type": "markdown",
   "metadata": {},
   "source": [
    "### Match query\n",
    "\n",
    "Search for points that match a given timestamp"
   ]
  },
  {
   "cell_type": "code",
   "execution_count": 4,
   "metadata": {
    "scrolled": false
   },
   "outputs": [
    {
     "name": "stdout",
     "output_type": "stream",
     "text": [
      "CPU times: user 308 ms, sys: 9.35 ms, total: 318 ms\n",
      "Wall time: 316 ms\n",
      "number of points found: 2\n"
     ]
    },
    {
     "data": {
      "text/html": [
       "<div>\n",
       "<style scoped>\n",
       "    .dataframe tbody tr th:only-of-type {\n",
       "        vertical-align: middle;\n",
       "    }\n",
       "\n",
       "    .dataframe tbody tr th {\n",
       "        vertical-align: top;\n",
       "    }\n",
       "\n",
       "    .dataframe thead th {\n",
       "        text-align: right;\n",
       "    }\n",
       "</style>\n",
       "<table border=\"1\" class=\"dataframe\">\n",
       "  <thead>\n",
       "    <tr style=\"text-align: right;\">\n",
       "      <th></th>\n",
       "      <th>point</th>\n",
       "      <th>x</th>\n",
       "      <th>y</th>\n",
       "      <th>z</th>\n",
       "    </tr>\n",
       "  </thead>\n",
       "  <tbody>\n",
       "    <tr>\n",
       "      <td>0</td>\n",
       "      <td>&lt;laspy.util.Point object at 0x7fd6180cb518&gt;</td>\n",
       "      <td>315459.722</td>\n",
       "      <td>233580.778</td>\n",
       "      <td>-61.811</td>\n",
       "    </tr>\n",
       "    <tr>\n",
       "      <td>13291790</td>\n",
       "      <td>&lt;laspy.util.Point object at 0x7fd6180cb5c0&gt;</td>\n",
       "      <td>315434.282</td>\n",
       "      <td>233547.335</td>\n",
       "      <td>10.737</td>\n",
       "    </tr>\n",
       "  </tbody>\n",
       "</table>\n",
       "</div>"
      ],
      "text/plain": [
       "                                                point           x           y  \\\n",
       "0         <laspy.util.Point object at 0x7fd6180cb518>  315459.722  233580.778   \n",
       "13291790  <laspy.util.Point object at 0x7fd6180cb5c0>  315434.282  233547.335   \n",
       "\n",
       "               z  \n",
       "0        -61.811  \n",
       "13291790  10.737  "
      ]
     },
     "execution_count": 4,
     "metadata": {},
     "output_type": "execute_result"
    }
   ],
   "source": [
    "timestamp = 388567044563/1000000 # in seconds\n",
    "%time pts = get_points_by_time_brute_force(pcloud, timestamp)\n",
    "print('number of points found: {}'.format(len(pts)))\n",
    "pts"
   ]
  },
  {
   "cell_type": "markdown",
   "metadata": {},
   "source": [
    "### Range query\n",
    "\n",
    "Search for points whose timestamps are within a range"
   ]
  },
  {
   "cell_type": "code",
   "execution_count": 5,
   "metadata": {
    "scrolled": true
   },
   "outputs": [
    {
     "name": "stdout",
     "output_type": "stream",
     "text": [
      "CPU times: user 373 ms, sys: 0 ns, total: 373 ms\n",
      "Wall time: 372 ms\n",
      "number of points found: 2842\n"
     ]
    },
    {
     "data": {
      "text/html": [
       "<div>\n",
       "<style scoped>\n",
       "    .dataframe tbody tr th:only-of-type {\n",
       "        vertical-align: middle;\n",
       "    }\n",
       "\n",
       "    .dataframe tbody tr th {\n",
       "        vertical-align: top;\n",
       "    }\n",
       "\n",
       "    .dataframe thead th {\n",
       "        text-align: right;\n",
       "    }\n",
       "</style>\n",
       "<table border=\"1\" class=\"dataframe\">\n",
       "  <thead>\n",
       "    <tr style=\"text-align: right;\">\n",
       "      <th></th>\n",
       "      <th>point</th>\n",
       "      <th>x</th>\n",
       "      <th>y</th>\n",
       "      <th>z</th>\n",
       "    </tr>\n",
       "  </thead>\n",
       "  <tbody>\n",
       "    <tr>\n",
       "      <td>0</td>\n",
       "      <td>&lt;laspy.util.Point object at 0x7fd64cf5bf98&gt;</td>\n",
       "      <td>315459.722</td>\n",
       "      <td>233580.778</td>\n",
       "      <td>-61.811</td>\n",
       "    </tr>\n",
       "    <tr>\n",
       "      <td>2256598</td>\n",
       "      <td>&lt;laspy.util.Point object at 0x7fd64cf5bf60&gt;</td>\n",
       "      <td>315231.562</td>\n",
       "      <td>233283.255</td>\n",
       "      <td>13.691</td>\n",
       "    </tr>\n",
       "    <tr>\n",
       "      <td>2256599</td>\n",
       "      <td>&lt;laspy.util.Point object at 0x7fd64cf5bfd0&gt;</td>\n",
       "      <td>315231.652</td>\n",
       "      <td>233283.372</td>\n",
       "      <td>13.670</td>\n",
       "    </tr>\n",
       "    <tr>\n",
       "      <td>2256600</td>\n",
       "      <td>&lt;laspy.util.Point object at 0x7fd64cf6f048&gt;</td>\n",
       "      <td>315231.755</td>\n",
       "      <td>233283.506</td>\n",
       "      <td>13.676</td>\n",
       "    </tr>\n",
       "    <tr>\n",
       "      <td>2256601</td>\n",
       "      <td>&lt;laspy.util.Point object at 0x7fd64cf6f080&gt;</td>\n",
       "      <td>315231.930</td>\n",
       "      <td>233283.734</td>\n",
       "      <td>13.931</td>\n",
       "    </tr>\n",
       "    <tr>\n",
       "      <td>...</td>\n",
       "      <td>...</td>\n",
       "      <td>...</td>\n",
       "      <td>...</td>\n",
       "      <td>...</td>\n",
       "    </tr>\n",
       "    <tr>\n",
       "      <td>13426600</td>\n",
       "      <td>&lt;laspy.util.Point object at 0x7fd64ce045f8&gt;</td>\n",
       "      <td>315437.962</td>\n",
       "      <td>233552.053</td>\n",
       "      <td>31.996</td>\n",
       "    </tr>\n",
       "    <tr>\n",
       "      <td>13426601</td>\n",
       "      <td>&lt;laspy.util.Point object at 0x7fd64ce04630&gt;</td>\n",
       "      <td>315438.341</td>\n",
       "      <td>233552.550</td>\n",
       "      <td>31.300</td>\n",
       "    </tr>\n",
       "    <tr>\n",
       "      <td>13426602</td>\n",
       "      <td>&lt;laspy.util.Point object at 0x7fd64ce04668&gt;</td>\n",
       "      <td>315438.317</td>\n",
       "      <td>233552.519</td>\n",
       "      <td>31.621</td>\n",
       "    </tr>\n",
       "    <tr>\n",
       "      <td>13426603</td>\n",
       "      <td>&lt;laspy.util.Point object at 0x7fd64ce046a0&gt;</td>\n",
       "      <td>315438.418</td>\n",
       "      <td>233552.649</td>\n",
       "      <td>31.655</td>\n",
       "    </tr>\n",
       "    <tr>\n",
       "      <td>13426604</td>\n",
       "      <td>&lt;laspy.util.Point object at 0x7fd64ce046d8&gt;</td>\n",
       "      <td>315438.206</td>\n",
       "      <td>233552.370</td>\n",
       "      <td>32.474</td>\n",
       "    </tr>\n",
       "  </tbody>\n",
       "</table>\n",
       "<p>2842 rows × 4 columns</p>\n",
       "</div>"
      ],
      "text/plain": [
       "                                                point           x           y  \\\n",
       "0         <laspy.util.Point object at 0x7fd64cf5bf98>  315459.722  233580.778   \n",
       "2256598   <laspy.util.Point object at 0x7fd64cf5bf60>  315231.562  233283.255   \n",
       "2256599   <laspy.util.Point object at 0x7fd64cf5bfd0>  315231.652  233283.372   \n",
       "2256600   <laspy.util.Point object at 0x7fd64cf6f048>  315231.755  233283.506   \n",
       "2256601   <laspy.util.Point object at 0x7fd64cf6f080>  315231.930  233283.734   \n",
       "...                                               ...         ...         ...   \n",
       "13426600  <laspy.util.Point object at 0x7fd64ce045f8>  315437.962  233552.053   \n",
       "13426601  <laspy.util.Point object at 0x7fd64ce04630>  315438.341  233552.550   \n",
       "13426602  <laspy.util.Point object at 0x7fd64ce04668>  315438.317  233552.519   \n",
       "13426603  <laspy.util.Point object at 0x7fd64ce046a0>  315438.418  233552.649   \n",
       "13426604  <laspy.util.Point object at 0x7fd64ce046d8>  315438.206  233552.370   \n",
       "\n",
       "               z  \n",
       "0        -61.811  \n",
       "2256598   13.691  \n",
       "2256599   13.670  \n",
       "2256600   13.676  \n",
       "2256601   13.931  \n",
       "...          ...  \n",
       "13426600  31.996  \n",
       "13426601  31.300  \n",
       "13426602  31.621  \n",
       "13426603  31.655  \n",
       "13426604  32.474  \n",
       "\n",
       "[2842 rows x 4 columns]"
      ]
     },
     "execution_count": 5,
     "metadata": {},
     "output_type": "execute_result"
    }
   ],
   "source": [
    "t0 = 388567044563/1000000\n",
    "t1 = t0 + .01\n",
    "timestamp = [t0, t1] \n",
    "%time pts = get_points_by_time_brute_force(pcloud, timestamp)\n",
    "print('number of points found: {}'.format(len(pts)))\n",
    "pts"
   ]
  },
  {
   "cell_type": "markdown",
   "metadata": {},
   "source": [
    "### References \n",
    "\n",
    "* [Query types](https://docs.couchbase.com/server/current/fts/fts-query-types.html)"
   ]
  }
 ],
 "metadata": {
  "kernelspec": {
   "display_name": "Python 3",
   "language": "python",
   "name": "python3"
  },
  "language_info": {
   "codemirror_mode": {
    "name": "ipython",
    "version": 3
   },
   "file_extension": ".py",
   "mimetype": "text/x-python",
   "name": "python",
   "nbconvert_exporter": "python",
   "pygments_lexer": "ipython3",
   "version": "3.6.9"
  }
 },
 "nbformat": 4,
 "nbformat_minor": 2
}
